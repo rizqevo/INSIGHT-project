{
 "cells": [
  {
   "cell_type": "code",
   "execution_count": 1,
   "metadata": {},
   "outputs": [
    {
     "name": "stdout",
     "output_type": "stream",
     "text": [
      "normal:mp4@1270x720\n",
      "  29,197,890 Bytes [100.00%] received. Rate: [13080 KB/s].  ETA: [0 secs]    \r"
     ]
    },
    {
     "data": {
      "text/plain": [
       "'HD CCTV Camera video 3MP 4MP iProx CCTV HDCCTVCameras.net retail store.mp4'"
      ]
     },
     "execution_count": 1,
     "metadata": {},
     "output_type": "execute_result"
    }
   ],
   "source": [
    "import pafy\n",
    "## url of the video\n",
    "url = \"https://www.youtube.com/watch?v=KMJS66jBtVQ\"\n",
    "## calling the new method of pafy\n",
    "result = pafy.new(url)\n",
    "## getting the best quality of video from the 'result' using the getbest()\n",
    "best_quality_video = result.getbest()\n",
    "## you can print it to see the quality of the video\n",
    "print(best_quality_video)\n",
    "## download it using the download()\n",
    "best_quality_video.download()"
   ]
  },
  {
   "cell_type": "code",
   "execution_count": null,
   "metadata": {},
   "outputs": [],
   "source": []
  }
 ],
 "metadata": {
  "kernelspec": {
   "display_name": "Python 3",
   "language": "python",
   "name": "python3"
  },
  "language_info": {
   "codemirror_mode": {
    "name": "ipython",
    "version": 3
   },
   "file_extension": ".py",
   "mimetype": "text/x-python",
   "name": "python",
   "nbconvert_exporter": "python",
   "pygments_lexer": "ipython3",
   "version": "3.6.9"
  }
 },
 "nbformat": 4,
 "nbformat_minor": 2
}
