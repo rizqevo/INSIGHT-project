{
 "cells": [
  {
   "cell_type": "code",
   "execution_count": 2,
   "metadata": {},
   "outputs": [],
   "source": [
    "import datetime as dt\n",
    "import time as tm"
   ]
  },
  {
   "cell_type": "code",
   "execution_count": 7,
   "metadata": {},
   "outputs": [],
   "source": [
    "current = dt.datetime.fromtimestamp(tm.time()).replace(microsecond=0)"
   ]
  },
  {
   "cell_type": "code",
   "execution_count": 8,
   "metadata": {},
   "outputs": [
    {
     "data": {
      "text/plain": [
       "datetime.datetime(2019, 9, 25, 16, 41, 7)"
      ]
     },
     "execution_count": 8,
     "metadata": {},
     "output_type": "execute_result"
    }
   ],
   "source": [
    "current"
   ]
  },
  {
   "cell_type": "code",
   "execution_count": 9,
   "metadata": {},
   "outputs": [
    {
     "data": {
      "text/plain": [
       "datetime.datetime(2019, 9, 25, 16, 41, 12)"
      ]
     },
     "execution_count": 9,
     "metadata": {},
     "output_type": "execute_result"
    }
   ],
   "source": [
    "current + dt.timedelta(seconds=5)"
   ]
  },
  {
   "cell_type": "code",
   "execution_count": 10,
   "metadata": {},
   "outputs": [],
   "source": [
    "time = 83"
   ]
  },
  {
   "cell_type": "code",
   "execution_count": 19,
   "metadata": {},
   "outputs": [
    {
     "data": {
      "text/plain": [
       "'0:01:23'"
      ]
     },
     "execution_count": 19,
     "metadata": {},
     "output_type": "execute_result"
    }
   ],
   "source": [
    "str(dt.timedelta(seconds=83))"
   ]
  },
  {
   "cell_type": "code",
   "execution_count": null,
   "metadata": {},
   "outputs": [],
   "source": [
    "datetime.datetime.now().strftime(\"%Y-%m-%d %H:%M:%S\")\n",
    "'2011-11-03 18:21:26'"
   ]
  },
  {
   "cell_type": "code",
   "execution_count": null,
   "metadata": {},
   "outputs": [],
   "source": []
  },
  {
   "cell_type": "code",
   "execution_count": 26,
   "metadata": {},
   "outputs": [],
   "source": [
    "a = ''\n",
    "li = []"
   ]
  },
  {
   "cell_type": "code",
   "execution_count": 27,
   "metadata": {},
   "outputs": [],
   "source": [
    "li.append('d')"
   ]
  },
  {
   "cell_type": "code",
   "execution_count": 28,
   "metadata": {},
   "outputs": [],
   "source": [
    "li.append(a)"
   ]
  },
  {
   "cell_type": "code",
   "execution_count": 30,
   "metadata": {},
   "outputs": [
    {
     "data": {
      "text/plain": [
       "2"
      ]
     },
     "execution_count": 30,
     "metadata": {},
     "output_type": "execute_result"
    }
   ],
   "source": [
    "len(li)"
   ]
  },
  {
   "cell_type": "code",
   "execution_count": 42,
   "metadata": {},
   "outputs": [],
   "source": [
    "time = '09/04/2019 12:00 AM'"
   ]
  },
  {
   "cell_type": "code",
   "execution_count": 43,
   "metadata": {},
   "outputs": [
    {
     "data": {
      "text/plain": [
       "['09/04/2019', '12:00', 'AM']"
      ]
     },
     "execution_count": 43,
     "metadata": {},
     "output_type": "execute_result"
    }
   ],
   "source": [
    "time.split()"
   ]
  },
  {
   "cell_type": "code",
   "execution_count": 44,
   "metadata": {},
   "outputs": [
    {
     "data": {
      "text/plain": [
       "['12', '00']"
      ]
     },
     "execution_count": 44,
     "metadata": {},
     "output_type": "execute_result"
    }
   ],
   "source": [
    "time.split()[1].split(':')"
   ]
  },
  {
   "cell_type": "code",
   "execution_count": 51,
   "metadata": {},
   "outputs": [],
   "source": [
    "month = int(time.split()[0].split('/')[0])\n",
    "day = int(time.split()[0].split('/')[1])\n",
    "year = int(time.split()[0].split('/')[2])\n",
    "hour = int(time.split()[1].split(':')[0])\n",
    "minute = int(time.split()[1].split(':')[1])\n",
    "if time.split()[-1] == 'PM':\n",
    "    hour += 12\n",
    "\n"
   ]
  },
  {
   "cell_type": "code",
   "execution_count": 52,
   "metadata": {},
   "outputs": [
    {
     "data": {
      "text/plain": [
       "12"
      ]
     },
     "execution_count": 52,
     "metadata": {},
     "output_type": "execute_result"
    }
   ],
   "source": [
    "hour"
   ]
  },
  {
   "cell_type": "code",
   "execution_count": 53,
   "metadata": {},
   "outputs": [
    {
     "data": {
      "text/plain": [
       "datetime.datetime(2019, 9, 4, 12, 0)"
      ]
     },
     "execution_count": 53,
     "metadata": {},
     "output_type": "execute_result"
    }
   ],
   "source": [
    "dt.datetime(year,month,day,hour,minute)"
   ]
  },
  {
   "cell_type": "code",
   "execution_count": 54,
   "metadata": {},
   "outputs": [
    {
     "name": "stdout",
     "output_type": "stream",
     "text": [
      "/Users/seanchoi/Documents/INSIGHT-project/KYM_app\r\n"
     ]
    }
   ],
   "source": [
    "!pwd"
   ]
  },
  {
   "cell_type": "code",
   "execution_count": 55,
   "metadata": {},
   "outputs": [
    {
     "name": "stdout",
     "output_type": "stream",
     "text": [
      "\u001b[31mCONTRIBUTING.md\u001b[m\u001b[m                        img_contour.png\r\n",
      "\u001b[31mISSUE_TEMPLATE.md\u001b[m\u001b[m                      img_traj.png\r\n",
      "KYM_app.py                             \u001b[34mkeras_layers\u001b[m\u001b[m\r\n",
      "LICENSE.txt                            \u001b[34mkeras_loss_function\u001b[m\u001b[m\r\n",
      "\u001b[31mREADME.md\u001b[m\u001b[m                              \u001b[34mmisc_utils\u001b[m\u001b[m\r\n",
      "TESTING.ipynb                          \u001b[34mmodels\u001b[m\u001b[m\r\n",
      "VGG_VOC0712_SSD_512x512_iter_120000.h5 motion_tracker_app.py\r\n",
      "__init__.py                            original_video_clip.avi\r\n",
      "\u001b[34m__pycache__\u001b[m\u001b[m                            processed_file.pkl\r\n",
      "\u001b[34mbounding_box_utils\u001b[m\u001b[m                     processed_video_clip.avi\r\n",
      "\u001b[34mdata_generator\u001b[m\u001b[m                         \u001b[34mssd_encoder_decoder\u001b[m\u001b[m\r\n",
      "\u001b[34meval_utils\u001b[m\u001b[m                             \u001b[34mstatic\u001b[m\u001b[m\r\n",
      "\u001b[34mexamples\u001b[m\u001b[m                               \u001b[34mtemplates\u001b[m\u001b[m\r\n",
      "file_name.pkl                          \u001b[34mtraining_summaries\u001b[m\u001b[m\r\n",
      "helper_func_app.py\r\n"
     ]
    }
   ],
   "source": [
    "!ls"
   ]
  },
  {
   "cell_type": "code",
   "execution_count": 58,
   "metadata": {},
   "outputs": [],
   "source": [
    "file_name = 'processed_file'\n",
    "import pickle"
   ]
  },
  {
   "cell_type": "code",
   "execution_count": 59,
   "metadata": {},
   "outputs": [],
   "source": [
    "sorted_archive = pickle.load(open('file_name' + '.pkl', 'rb'))"
   ]
  },
  {
   "cell_type": "code",
   "execution_count": 60,
   "metadata": {},
   "outputs": [
    {
     "data": {
      "text/plain": [
       "OrderedDict([(1,\n",
       "              [datetime.datetime(2019, 9, 24, 19, 21, 42, 327354),\n",
       "               [(453, 215), (453, 215), (453, 215)]]),\n",
       "             (2,\n",
       "              [datetime.datetime(2019, 9, 24, 19, 21, 42, 327354),\n",
       "               [(568, 288), (568, 288), (568, 288)]]),\n",
       "             (3,\n",
       "              [datetime.datetime(2019, 9, 24, 19, 21, 42, 327354),\n",
       "               [(498, 295), (498, 295), (498, 295)]]),\n",
       "             (4,\n",
       "              [datetime.datetime(2019, 9, 24, 19, 21, 42, 327354),\n",
       "               [(143, 100), (143, 100), (143, 100)]])])"
      ]
     },
     "execution_count": 60,
     "metadata": {},
     "output_type": "execute_result"
    }
   ],
   "source": [
    "sorted_archive"
   ]
  },
  {
   "cell_type": "code",
   "execution_count": null,
   "metadata": {},
   "outputs": [],
   "source": []
  }
 ],
 "metadata": {
  "kernelspec": {
   "display_name": "Python 3",
   "language": "python",
   "name": "python3"
  },
  "language_info": {
   "codemirror_mode": {
    "name": "ipython",
    "version": 3
   },
   "file_extension": ".py",
   "mimetype": "text/x-python",
   "name": "python",
   "nbconvert_exporter": "python",
   "pygments_lexer": "ipython3",
   "version": "3.7.3"
  }
 },
 "nbformat": 4,
 "nbformat_minor": 2
}
